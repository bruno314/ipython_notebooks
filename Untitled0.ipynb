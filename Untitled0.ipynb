{
 "metadata": {
  "name": "Untitled0"
 },
 "nbformat": 3,
 "nbformat_minor": 0,
 "worksheets": [
  {
   "cells": [
    {
     "cell_type": "code",
     "collapsed": false,
     "input": "from collections import namedtuple",
     "language": "python",
     "metadata": {},
     "outputs": [],
     "prompt_number": 2
    },
    {
     "cell_type": "code",
     "collapsed": false,
     "input": "City = namedtuple(\"City\",\"cpi cpi_w_rent lpp avg_pay_disposable_taxed google_average_pay_pretax google_average_pay_senior_pretax currency\") # RSU not included",
     "language": "python",
     "metadata": {},
     "outputs": [],
     "prompt_number": 18
    },
    {
     "cell_type": "code",
     "collapsed": false,
     "input": "sfo = City(105,112,105,3980,113000,154000,\"USD\")",
     "language": "python",
     "metadata": {},
     "outputs": [],
     "prompt_number": 19
    },
    {
     "cell_type": "code",
     "collapsed": false,
     "input": "zrh = City(137,102,192,6400,129000,178000,\"CHF\")",
     "language": "python",
     "metadata": {},
     "outputs": [],
     "prompt_number": 20
    },
    {
     "cell_type": "code",
     "collapsed": false,
     "input": "senior_adjusted_pp_ratio = (zrh.lpp*(zrh.google_average_pay_senior_pretax*0.85)/zrh.avg_pay_disposable_taxed)/((sfo.lpp*(sfo.google_average_pay_senior_pretax*0.6)/sfo.avg_pay_disposable_taxed))",
     "language": "python",
     "metadata": {},
     "outputs": [],
     "prompt_number": 23
    },
    {
     "cell_type": "code",
     "collapsed": false,
     "input": "senior_adjusted_pp_ratio",
     "language": "python",
     "metadata": {},
     "outputs": [
      {
       "metadata": {},
       "output_type": "pyout",
       "prompt_number": 24,
       "text": "1.8620098948670378"
      }
     ],
     "prompt_number": 24
    },
    {
     "cell_type": "code",
     "collapsed": false,
     "input": "",
     "language": "python",
     "metadata": {},
     "outputs": []
    }
   ],
   "metadata": {}
  }
 ]
}